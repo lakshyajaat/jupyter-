{
 "cells": [
  {
   "cell_type": "code",
   "execution_count": 1,
   "id": "258331bf",
   "metadata": {},
   "outputs": [],
   "source": [
    "# Loaded variable 'df' from URI: /home/lakshya/jupyter/aml/The_Cancer_data_set_V3.csv\n",
    "import pandas as pd\n",
    "df = pd.read_csv(r'/home/lakshya/jupyter/aml/The_Cancer_data_set_V3.csv')"
   ]
  }
 ],
 "metadata": {
  "kernelspec": {
   "display_name": "Python 3 (ipykernel)",
   "language": "python",
   "name": "python3"
  },
  "language_info": {
   "codemirror_mode": {
    "name": "ipython",
    "version": 3
   },
   "file_extension": ".py",
   "mimetype": "text/x-python",
   "name": "python",
   "nbconvert_exporter": "python",
   "pygments_lexer": "ipython3",
   "version": "3.13.5"
  }
 },
 "nbformat": 4,
 "nbformat_minor": 5
}
