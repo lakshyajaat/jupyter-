{
 "cells": [
  {
   "cell_type": "code",
   "execution_count": 2,
   "id": "489911c1-0aa2-4f5e-b08a-7d9ac4a4ca66",
   "metadata": {},
   "outputs": [
    {
     "name": "stdout",
     "output_type": "stream",
     "text": [
      "                 SUBDIVISION  YEAR   JAN    FEB   MAR    APR    MAY    JUN  \\\n",
      "0  ANDAMAN & NICOBAR ISLANDS  1901  49.2   87.1  29.2    2.3  528.8  517.5   \n",
      "1  ANDAMAN & NICOBAR ISLANDS  1902   0.0  159.8  12.2    0.0  446.1  537.1   \n",
      "2  ANDAMAN & NICOBAR ISLANDS  1903  12.7  144.0   0.0    1.0  235.1  479.9   \n",
      "3  ANDAMAN & NICOBAR ISLANDS  1904   9.4   14.7   0.0  202.4  304.5  495.1   \n",
      "4  ANDAMAN & NICOBAR ISLANDS  1905   1.3    0.0   3.3   26.9  279.5  628.7   \n",
      "\n",
      "     JUL    AUG    SEP    OCT    NOV    DEC  ANNUAL  Jan-Feb  Mar-May  \\\n",
      "0  365.1  481.1  332.6  388.5  558.2   33.6  3373.2    136.3    560.3   \n",
      "1  228.9  753.7  666.2  197.2  359.0  160.5  3520.7    159.8    458.3   \n",
      "2  728.4  326.7  339.0  181.2  284.4  225.0  2957.4    156.7    236.1   \n",
      "3  502.0  160.1  820.4  222.2  308.7   40.1  3079.6     24.1    506.9   \n",
      "4  368.7  330.5  297.0  260.7   25.4  344.7  2566.7      1.3    309.7   \n",
      "\n",
      "   Jun-Sep  Oct-Dec  \n",
      "0   1696.3    980.3  \n",
      "1   2185.9    716.7  \n",
      "2   1874.0    690.6  \n",
      "3   1977.6    571.0  \n",
      "4   1624.9    630.8  \n"
     ]
    }
   ],
   "source": [
    "import pandas as pd\n",
    "df = pd.read_csv('/home/lakshya/jupyter/aml/rainfall in india 1901-2015.csv')  # Replace with your file path\n",
    "print(df.head())\n"
   ]
  },
  {
   "cell_type": "code",
   "execution_count": null,
   "id": "1cf3ec5c",
   "metadata": {},
   "outputs": [],
   "source": []
  }
 ],
 "metadata": {
  "kernelspec": {
   "display_name": "Python 3 (ipykernel)",
   "language": "python",
   "name": "python3"
  }
 },
 "nbformat": 4,
 "nbformat_minor": 5
}
