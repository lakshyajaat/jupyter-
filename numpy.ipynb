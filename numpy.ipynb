{
 "cells": [
  {
   "cell_type": "code",
   "execution_count": 2,
   "id": "47b82d21",
   "metadata": {},
   "outputs": [],
   "source": [
    "import numpy as np"
   ]
  },
  {
   "cell_type": "code",
   "execution_count": 3,
   "id": "4cd75c23",
   "metadata": {},
   "outputs": [],
   "source": [
    "# Print the version of numpy\n",
    "import pandas as pd\n",
    "import matplotlib.pyplot as plt\n",
    "import seaborn as sns\n",
    "import matplotlib as mpl\n",
    "import warnings\n",
    "warnings.filterwarnings(\"ignore\")\n",
    "mpl.rcParams['figure.dpi'] = 300\n",
    "mpl.rcParams['savefig.dpi'] = 300\n",
    "mpl.rcParams['font.size'] = 8\n",
    "mpl.rcParams['font.family'] = 'Arial'\n",
    "mpl.rcParams['axes.labelsize'] = 8\n",
    "mpl.rcParams['axes.titlesize'] = 8\n",
    "mpl.rcParams['xtick.labelsize'] = 8\n",
    "mpl.rcParams['ytick.labelsize'] = 8\n",
    "mpl.rcParams['legend.fontsize'] = 8\n",
    "mpl.rcParams['legend.title_fontsize'] = 8\n",
    "mpl.rcParams['figure.figsize'] = (3.5, 3.5) "
   ]
  },
  {
   "cell_type": "code",
   "execution_count": 4,
   "id": "9787cd9f",
   "metadata": {},
   "outputs": [
    {
     "name": "stdout",
     "output_type": "stream",
     "text": [
      "Numpy version: 2.3.2\n",
      "Pandas version: 2.3.1\n",
      "Matplotlib version: 3.10.5\n",
      "Seaborn version: 0.13.2\n",
      "Warnings are suppressed.\n"
     ]
    }
   ],
   "source": [
    "print(\"Numpy version:\", np.__version__)\n",
    "print(\"Pandas version:\", pd.__version__)\n",
    "print(\"Matplotlib version:\", mpl.__version__)\n",
    "print(\"Seaborn version:\", sns.__version__)\n",
    "print(\"Warnings are suppressed.\")       "
   ]
  },
  {
   "cell_type": "code",
   "execution_count": 5,
   "id": "226f3bcf",
   "metadata": {},
   "outputs": [],
   "source": [
    "# This script sets up the environment for data analysis with numpy, pandas, matplotlib, and seaborn.    \n",
    "# It configures matplotlib to use a specific style and suppresses warnings for cleaner output.\n",
    "# data analysis and visualization tasks can be performed using these libraries.\n",
    "# The script also prints the versions of the libraries to ensure compatibility and reproducibility."
   ]
  },
  {
   "cell_type": "code",
   "execution_count": null,
   "id": "a77129a4",
   "metadata": {},
   "outputs": [],
   "source": []
  }
 ],
 "metadata": {
  "kernelspec": {
   "display_name": "Python 3 (ipykernel)",
   "language": "python",
   "name": "python3"
  },
  "language_info": {
   "codemirror_mode": {
    "name": "ipython",
    "version": 3
   },
   "file_extension": ".py",
   "mimetype": "text/x-python",
   "name": "python",
   "nbconvert_exporter": "python",
   "pygments_lexer": "ipython3",
   "version": "3.13.5"
  }
 },
 "nbformat": 4,
 "nbformat_minor": 5
}
