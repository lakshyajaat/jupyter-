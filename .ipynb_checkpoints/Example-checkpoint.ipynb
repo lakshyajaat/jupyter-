{
 "cells": [
  {
   "cell_type": "code",
   "execution_count": null,
   "id": "98bb9d6d",
   "metadata": {},
   "outputs": [
    {
     "name": "stdout",
     "output_type": "stream",
     "text": [
      "hi\n"
     ]
    }
   ],
   "source": [
    "print(\"hi\")\n"
   ]
  },
  {
   "cell_type": "code",
   "execution_count": 3,
   "id": "b8191493",
   "metadata": {},
   "outputs": [
    {
     "data": {
      "text/plain": [
       "'fdk'"
      ]
     },
     "execution_count": 3,
     "metadata": {},
     "output_type": "execute_result"
    }
   ],
   "source": [
    "\"fdk\""
   ]
  }
 ],
 "metadata": {
  "kernelspec": {
   "display_name": "Python 3 (ipykernel)",
   "language": "python",
   "name": "python3"
  }
 },
 "nbformat": 4,
 "nbformat_minor": 5
}
